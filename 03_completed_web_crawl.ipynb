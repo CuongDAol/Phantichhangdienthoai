{
 "cells": [
  {
   "cell_type": "code",
   "execution_count": 23,
   "metadata": {},
   "outputs": [],
   "source": [
    "from selenium import webdriver\n",
    "from selenium.webdriver.common.by import By\n",
    "from selenium.webdriver.common.action_chains import ActionChains, ScrollOrigin\n",
    "import pandas as pd\n",
    "from time import sleep"
   ]
  },
  {
   "cell_type": "markdown",
   "metadata": {},
   "source": [
    "#### Click Iphone"
   ]
  },
  {
   "cell_type": "code",
   "execution_count": 24,
   "metadata": {},
   "outputs": [],
   "source": [
    "url = 'https://www.thegioididong.com/dtdd'\n",
    "driver = webdriver.Chrome()\n",
    "driver.get(url)"
   ]
  },
  {
   "cell_type": "markdown",
   "metadata": {},
   "source": [
    "#### Click Iphone, Samsung, Xiaomi"
   ]
  },
  {
   "cell_type": "code",
   "execution_count": 25,
   "metadata": {},
   "outputs": [],
   "source": [
    "hang_elm = driver.find_element(By.XPATH, '/html/body/div[6]/div[4]/section/div[1]/div/div[3]/div[1]')\n",
    "hang_elm.click()"
   ]
  },
  {
   "cell_type": "code",
   "execution_count": 26,
   "metadata": {},
   "outputs": [],
   "source": [
    "samsung_elm = driver.find_element(By.XPATH, '/html/body/div[6]/div[4]/section/div[1]/div/div[3]/div[2]/div[1]/a[1]')\n",
    "iphone_elm = driver.find_element(By.XPATH, '/html/body/div[6]/div[4]/section/div[1]/div/div[3]/div[2]/div[1]/a[2]')\n",
    "xiaomi_elm = driver.find_element(By.XPATH, '/html/body/div[6]/div[4]/section/div[1]/div/div[3]/div[2]/div[1]/a[4]')\n"
   ]
  },
  {
   "cell_type": "code",
   "execution_count": 27,
   "metadata": {},
   "outputs": [],
   "source": [
    "samsung_elm.click()\n",
    "iphone_elm.click()\n",
    "xiaomi_elm.click()"
   ]
  },
  {
   "cell_type": "code",
   "execution_count": 28,
   "metadata": {},
   "outputs": [],
   "source": [
    "xem_ket_qua_elm = driver.find_element(By.XPATH, '/html/body/div[6]/div[4]/section/div[1]/div/div[3]/div[2]/div[2]/a[2]')\n",
    "xem_ket_qua_elm.click()\n",
    "sleep(2)"
   ]
  },
  {
   "cell_type": "markdown",
   "metadata": {},
   "source": [
    "#### Show more:"
   ]
  },
  {
   "cell_type": "code",
   "execution_count": 29,
   "metadata": {},
   "outputs": [],
   "source": [
    "show_more_elm = driver.find_element(By.XPATH, '//*[@id=\"categoryPage\"]/div[3]/div[2]/a')"
   ]
  },
  {
   "cell_type": "code",
   "execution_count": 30,
   "metadata": {},
   "outputs": [
    {
     "name": "stdout",
     "output_type": "stream",
     "text": [
      "we are at the end of the page!\n"
     ]
    }
   ],
   "source": [
    "while True:\n",
    "    try:\n",
    "        show_more_elm.click()\n",
    "        sleep(2)\n",
    "    except:\n",
    "        print('we are at the end of the page!')\n",
    "        break"
   ]
  },
  {
   "cell_type": "markdown",
   "metadata": {},
   "source": [
    "#### Get product infomation"
   ]
  },
  {
   "cell_type": "code",
   "execution_count": 31,
   "metadata": {},
   "outputs": [],
   "source": [
    "# products_elm = driver.find_elements(By.CLASS_NAME, 'item')\n",
    "# len(products_elm)"
   ]
  },
  {
   "cell_type": "code",
   "execution_count": 32,
   "metadata": {},
   "outputs": [
    {
     "data": {
      "text/plain": [
       "84"
      ]
     },
     "execution_count": 32,
     "metadata": {},
     "output_type": "execute_result"
    }
   ],
   "source": [
    "listproduct_elm = driver.find_element(By.CLASS_NAME, 'listproduct')\n",
    "product_list = listproduct_elm.find_elements(By.CLASS_NAME, 'item')\n",
    "len(product_list)"
   ]
  },
  {
   "cell_type": "markdown",
   "metadata": {},
   "source": [
    "##### Create get product info function"
   ]
  },
  {
   "cell_type": "code",
   "execution_count": 33,
   "metadata": {},
   "outputs": [],
   "source": [
    "def get_product_info(product_elm):\n",
    "    # opt1: get phone name:\n",
    "    phone_name = product_elm.find_element(By.XPATH, './/h3[@title]').text\n",
    "\n",
    "    # get price:\n",
    "    price = product_elm.find_element(By.XPATH, value='.//strong[@class=\"price\"]').text\n",
    "\n",
    "    # opt1: get utility:\n",
    "    utility = product_elm.find_element(By.CLASS_NAME, 'utility').text\n",
    "\n",
    "    # get product image:\n",
    "    phone_img_link = product_elm.find_element(By.XPATH, './/img').get_attribute('src')\n",
    "\n",
    "    result = {\n",
    "        'name': phone_name,\n",
    "        'price': price,\n",
    "        'utility': utility,\n",
    "        'img_link': phone_img_link\n",
    "    }\n",
    "    return result"
   ]
  },
  {
   "cell_type": "markdown",
   "metadata": {},
   "source": [
    "#### Get all products infomation"
   ]
  },
  {
   "cell_type": "code",
   "execution_count": 34,
   "metadata": {},
   "outputs": [],
   "source": [
    "all_product_list = []\n",
    "\n",
    "for prd_elm in product_list:\n",
    "    product_info = get_product_info(product_elm=prd_elm)\n",
    "    all_product_list.append(product_info)"
   ]
  },
  {
   "cell_type": "code",
   "execution_count": 35,
   "metadata": {},
   "outputs": [
    {
     "data": {
      "text/html": [
       "<div>\n",
       "<style scoped>\n",
       "    .dataframe tbody tr th:only-of-type {\n",
       "        vertical-align: middle;\n",
       "    }\n",
       "\n",
       "    .dataframe tbody tr th {\n",
       "        vertical-align: top;\n",
       "    }\n",
       "\n",
       "    .dataframe thead th {\n",
       "        text-align: right;\n",
       "    }\n",
       "</style>\n",
       "<table border=\"1\" class=\"dataframe\">\n",
       "  <thead>\n",
       "    <tr style=\"text-align: right;\">\n",
       "      <th></th>\n",
       "      <th>name</th>\n",
       "      <th>price</th>\n",
       "      <th>utility</th>\n",
       "      <th>img_link</th>\n",
       "    </tr>\n",
       "  </thead>\n",
       "  <tbody>\n",
       "    <tr>\n",
       "      <th>0</th>\n",
       "      <td>iPhone 15 Pro Max 256GB</td>\n",
       "      <td>29.590.000₫</td>\n",
       "      <td>Chip Apple A17 Pro 6 nhân\\nRAM: 8 GB\\nDung lượ...</td>\n",
       "      <td>https://cdn.tgdd.vn/Products/Images/42/305658/...</td>\n",
       "    </tr>\n",
       "    <tr>\n",
       "      <th>1</th>\n",
       "      <td>iPhone 13 256GB</td>\n",
       "      <td>16.990.000₫</td>\n",
       "      <td>Chip Apple A15 Bionic\\nRAM: 4 GB\\nDung lượng: ...</td>\n",
       "      <td>https://cdn.tgdd.vn/Products/Images/42/250258/...</td>\n",
       "    </tr>\n",
       "    <tr>\n",
       "      <th>2</th>\n",
       "      <td>Samsung Galaxy S23 Ultra 5G 256GB</td>\n",
       "      <td>24.990.000₫</td>\n",
       "      <td>Chip Snapdragon 8 Gen 2 for Galaxy\\nRAM: 8 GB\\...</td>\n",
       "      <td>https://cdn.tgdd.vn/Products/Images/42/249948/...</td>\n",
       "    </tr>\n",
       "    <tr>\n",
       "      <th>3</th>\n",
       "      <td>Xiaomi Redmi Note 13 (8GB/128GB)</td>\n",
       "      <td>4.390.000₫</td>\n",
       "      <td>Chip Snapdragon 685 8 nhân\\nRAM: 8 GB\\nDung lư...</td>\n",
       "      <td>https://cdn.tgdd.vn/Products/Images/42/309831/...</td>\n",
       "    </tr>\n",
       "    <tr>\n",
       "      <th>4</th>\n",
       "      <td>Samsung Galaxy A55 5G (8GB/256GB)</td>\n",
       "      <td>10.190.000₫</td>\n",
       "      <td>Chip Exynos 1480 8 nhân\\nRAM: 8 GB\\nDung lượng...</td>\n",
       "      <td>https://cdn.tgdd.vn/Products/Images/42/322670/...</td>\n",
       "    </tr>\n",
       "  </tbody>\n",
       "</table>\n",
       "</div>"
      ],
      "text/plain": [
       "                                name        price  \\\n",
       "0            iPhone 15 Pro Max 256GB  29.590.000₫   \n",
       "1                    iPhone 13 256GB  16.990.000₫   \n",
       "2  Samsung Galaxy S23 Ultra 5G 256GB  24.990.000₫   \n",
       "3   Xiaomi Redmi Note 13 (8GB/128GB)   4.390.000₫   \n",
       "4  Samsung Galaxy A55 5G (8GB/256GB)  10.190.000₫   \n",
       "\n",
       "                                             utility  \\\n",
       "0  Chip Apple A17 Pro 6 nhân\\nRAM: 8 GB\\nDung lượ...   \n",
       "1  Chip Apple A15 Bionic\\nRAM: 4 GB\\nDung lượng: ...   \n",
       "2  Chip Snapdragon 8 Gen 2 for Galaxy\\nRAM: 8 GB\\...   \n",
       "3  Chip Snapdragon 685 8 nhân\\nRAM: 8 GB\\nDung lư...   \n",
       "4  Chip Exynos 1480 8 nhân\\nRAM: 8 GB\\nDung lượng...   \n",
       "\n",
       "                                            img_link  \n",
       "0  https://cdn.tgdd.vn/Products/Images/42/305658/...  \n",
       "1  https://cdn.tgdd.vn/Products/Images/42/250258/...  \n",
       "2  https://cdn.tgdd.vn/Products/Images/42/249948/...  \n",
       "3  https://cdn.tgdd.vn/Products/Images/42/309831/...  \n",
       "4  https://cdn.tgdd.vn/Products/Images/42/322670/...  "
      ]
     },
     "execution_count": 35,
     "metadata": {},
     "output_type": "execute_result"
    }
   ],
   "source": [
    "df = pd.DataFrame(all_product_list)\n",
    "df.head()"
   ]
  },
  {
   "cell_type": "markdown",
   "metadata": {},
   "source": [
    "#### Get Product Description"
   ]
  },
  {
   "cell_type": "code",
   "execution_count": 36,
   "metadata": {},
   "outputs": [],
   "source": [
    "def get_product_description(product_elm):\n",
    "    # B1: Click vao product:\n",
    "    product_elm.click()\n",
    "\n",
    "    sleep(2)\n",
    "\n",
    "    # B2: get production description:\n",
    "    try:\n",
    "        product_description = driver.find_element(By.CLASS_NAME, 'content-article').get_attribute('textContent')\n",
    "    except:\n",
    "        product_description = driver.find_element(By.CLASS_NAME, 'article__content').get_attribute('textContent')\n",
    "\n",
    "    # B3: Back lại trang trước:\n",
    "    driver.back()\n",
    "    sleep(2)\n",
    "\n",
    "    return product_description"
   ]
  },
  {
   "cell_type": "code",
   "execution_count": 37,
   "metadata": {},
   "outputs": [
    {
     "data": {
      "text/plain": [
       "'https://www.thegioididong.com/dtdd#c=42&m=2,80,2235&o=17&pi=4'"
      ]
     },
     "execution_count": 37,
     "metadata": {},
     "output_type": "execute_result"
    }
   ],
   "source": [
    "product_list_url = driver.current_url\n",
    "product_list_url"
   ]
  },
  {
   "cell_type": "code",
   "execution_count": 38,
   "metadata": {},
   "outputs": [],
   "source": [
    "all_product_list = []\n",
    "for i in range(len(product_list)):\n",
    "    for t in range(10):\n",
    "        try:\n",
    "            prd_elm = product_list[i]\n",
    "            product_info = get_product_info(prd_elm)\n",
    "            product_info['description'] = get_product_description(prd_elm)\n",
    "            all_product_list.append(product_info)\n",
    "            break\n",
    "        except:\n",
    "            driver.get(product_list_url)\n",
    "            sleep(2)\n",
    "            listproduct_elm = driver.find_element(By.CLASS_NAME, 'listproduct')\n",
    "            product_list = listproduct_elm.find_elements(By.CLASS_NAME, 'item')\n"
   ]
  },
  {
   "cell_type": "code",
   "execution_count": 39,
   "metadata": {},
   "outputs": [],
   "source": [
    "desc_df = pd.DataFrame( all_product_list)\n",
    "df = pd.merge(\n",
    "    left = df,\n",
    "    right = desc_df[['name', 'description']],\n",
    "    how = 'left',\n",
    "    on = 'name'\n",
    ")"
   ]
  },
  {
   "cell_type": "code",
   "execution_count": 42,
   "metadata": {},
   "outputs": [
    {
     "data": {
      "text/plain": [
       "'2024-05-18 232104.429392'"
      ]
     },
     "execution_count": 42,
     "metadata": {},
     "output_type": "execute_result"
    }
   ],
   "source": [
    "now = str(pd.Timestamp('now')).replace(':', '')\n",
    "now"
   ]
  },
  {
   "cell_type": "code",
   "execution_count": 43,
   "metadata": {},
   "outputs": [],
   "source": [
    "# save data:\n",
    "df.to_excel(fr'C:\\Users\\Windows\\Desktop\\Crawl data from website\\data\\phone_data {now}.xlsx', index=False)"
   ]
  }
 ],
 "metadata": {
  "kernelspec": {
   "display_name": "py38webcrawl",
   "language": "python",
   "name": "python3"
  },
  "language_info": {
   "codemirror_mode": {
    "name": "ipython",
    "version": 3
   },
   "file_extension": ".py",
   "mimetype": "text/x-python",
   "name": "python",
   "nbconvert_exporter": "python",
   "pygments_lexer": "ipython3",
   "version": "3.8.19"
  },
  "orig_nbformat": 4
 },
 "nbformat": 4,
 "nbformat_minor": 2
}
